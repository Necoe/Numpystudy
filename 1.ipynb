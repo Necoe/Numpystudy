{
 "cells": [
  {
   "metadata": {},
   "cell_type": "markdown",
   "source": [
    "# 一.ndarray\n",
    "## 1.ndarray的特性\n",
    "### 多维性\n"
   ],
   "id": "415f8507bf26eac3"
  },
  {
   "metadata": {},
   "cell_type": "code",
   "outputs": [],
   "execution_count": null,
   "source": [
    "import numpy as np\n",
    "from tornado.util import unicode_type\n",
    "\n",
    "arr = np.array(5)\n",
    "print(arr)\n",
    "print(\"维度：\", arr.ndim)\n",
    "arr = np.array([1, 2, 3])\n",
    "print(arr)\n",
    "print(\"维度：\", arr.ndim)\n",
    "arr = np.array([[1, 2, 3], [4, 5, 6]])\n",
    "print(arr)\n",
    "print(\"维度：\", arr.ndim)"
   ],
   "id": "4a17a68c47996529"
  },
  {
   "metadata": {},
   "cell_type": "markdown",
   "source": [
    "\n",
    "### 同质性"
   ],
   "id": "1ab01beaa241a31d"
  },
  {
   "metadata": {
    "ExecuteTime": {
     "end_time": "2025-07-29T08:20:22.221503Z",
     "start_time": "2025-07-29T08:20:22.216819Z"
    }
   },
   "cell_type": "code",
   "source": [
    "arr = np.array([1,1.3])\n",
    "print(arr)\n"
   ],
   "id": "d47e10c17ab24de5",
   "outputs": [
    {
     "name": "stdout",
     "output_type": "stream",
     "text": [
      "[1.  1.3]\n"
     ]
    }
   ],
   "execution_count": 6
  },
  {
   "metadata": {},
   "cell_type": "markdown",
   "source": "## 2.ndarray的属性",
   "id": "c3fc5063889ac94b"
  },
  {
   "metadata": {
    "ExecuteTime": {
     "end_time": "2025-07-29T08:31:25.156915Z",
     "start_time": "2025-07-29T08:31:25.152619Z"
    }
   },
   "cell_type": "code",
   "source": [
    "arr=np.array(1)\n",
    "print(arr)\n",
    "print(\"数组的形状：\",arr.shape)\n",
    "print(\"数组的维度：\",arr.ndim)\n",
    "print(\"元素的个数：\",arr.size)\n",
    "print(\"元素的类型：\",arr.dtype)\n",
    "print(\"元素的转置：\",arr.T)"
   ],
   "id": "5cae7cebd9de894d",
   "outputs": [
    {
     "name": "stdout",
     "output_type": "stream",
     "text": [
      "1\n",
      "数组的形状： ()\n",
      "数组的维度： 0\n",
      "元素的个数： 1\n",
      "元素的类型： int64\n",
      "元素的转置： 1\n"
     ]
    }
   ],
   "execution_count": 14
  },
  {
   "metadata": {
    "ExecuteTime": {
     "end_time": "2025-07-29T08:32:00.165014Z",
     "start_time": "2025-07-29T08:32:00.160752Z"
    }
   },
   "cell_type": "code",
   "source": [
    "arr=np.array([[1,2,3],[4,5,6]])\n",
    "print(arr)\n",
    "print(\"数组的形状：\",arr.shape)\n",
    "print(\"数组的维度：\",arr.ndim)\n",
    "print(\"元素的个数：\",arr.size)\n",
    "print(\"元素的类型：\",arr.dtype)\n",
    "print(\"元素的转置：\",arr.T)"
   ],
   "id": "4f15f5071d4100a7",
   "outputs": [
    {
     "name": "stdout",
     "output_type": "stream",
     "text": [
      "[[1 2 3]\n",
      " [4 5 6]]\n",
      "数组的形状： (2, 3)\n",
      "数组的维度： 2\n",
      "元素的个数： 6\n",
      "元素的类型： int64\n",
      "元素的转置： [[1 4]\n",
      " [2 5]\n",
      " [3 6]]\n"
     ]
    }
   ],
   "execution_count": 16
  },
  {
   "metadata": {
    "ExecuteTime": {
     "end_time": "2025-07-29T08:40:30.053688Z",
     "start_time": "2025-07-29T08:40:30.048543Z"
    }
   },
   "cell_type": "code",
   "source": [
    "arr=np.array([1,2,3])\n",
    "print(arr)\n",
    "print(\"数组的形状：\",arr.shape)\n",
    "print(\"数组的维度：\",arr.ndim)\n",
    "print(\"元素的个数：\",arr.size)\n",
    "print(\"元素的类型：\",arr.dtype)\n",
    "print(\"元素的转置：\",arr.T)"
   ],
   "id": "3bbf9d301a29dc20",
   "outputs": [
    {
     "name": "stdout",
     "output_type": "stream",
     "text": [
      "[1 2 3]\n",
      "数组的形状： (3,)\n",
      "数组的维度： 1\n",
      "元素的个数： 3\n",
      "元素的类型： int64\n",
      "元素的转置： [1 2 3]\n"
     ]
    }
   ],
   "execution_count": 18
  },
  {
   "metadata": {},
   "cell_type": "markdown",
   "source": "### 3.ndarrary的创建",
   "id": "4378d92c67177957"
  },
  {
   "metadata": {
    "ExecuteTime": {
     "end_time": "2025-07-29T08:42:44.989809Z",
     "start_time": "2025-07-29T08:42:44.985460Z"
    }
   },
   "cell_type": "code",
   "source": [
    "# 基础的创建方法\n",
    "arr=np.array([1,2,3])\n",
    "print(arr)"
   ],
   "id": "c0993e7cd7ece21",
   "outputs": [
    {
     "name": "stdout",
     "output_type": "stream",
     "text": [
      "[1 2 3]\n"
     ]
    }
   ],
   "execution_count": 19
  },
  {
   "metadata": {
    "ExecuteTime": {
     "end_time": "2025-07-29T08:46:54.750995Z",
     "start_time": "2025-07-29T08:46:54.746904Z"
    }
   },
   "cell_type": "code",
   "source": [
    "list1=[1,2,3]\n",
    "arr=np.array(list1,dtype=np.float64)\n",
    "print(arr)\n",
    "print(arr.ndim)"
   ],
   "id": "d3886db58bb7f43b",
   "outputs": [
    {
     "name": "stdout",
     "output_type": "stream",
     "text": [
      "[1. 2. 3.]\n",
      "1\n"
     ]
    }
   ],
   "execution_count": 20
  },
  {
   "metadata": {
    "ExecuteTime": {
     "end_time": "2025-07-29T08:48:03.298268Z",
     "start_time": "2025-07-29T08:48:03.293837Z"
    }
   },
   "cell_type": "code",
   "source": [
    "#copy\n",
    "arr1=np.copy(arr)\n",
    "print(arr1)\n"
   ],
   "id": "5b87303f8db158f0",
   "outputs": [
    {
     "name": "stdout",
     "output_type": "stream",
     "text": [
      "[1. 2. 3.]\n"
     ]
    }
   ],
   "execution_count": 21
  },
  {
   "metadata": {
    "ExecuteTime": {
     "end_time": "2025-07-29T08:53:46.121221Z",
     "start_time": "2025-07-29T08:53:46.116550Z"
    }
   },
   "cell_type": "code",
   "source": [
    "#预定义形状的\n",
    "# 全零 全一  未初始化  固定值\n",
    "# 全零\n",
    "arr=np.zeros((3,4),dtype=int)\n",
    "print(arr)\n",
    "print(arr.ndim)\n",
    "print(arr.dtype)"
   ],
   "id": "2485352222aed94a",
   "outputs": [
    {
     "name": "stdout",
     "output_type": "stream",
     "text": [
      "[[0 0 0 0]\n",
      " [0 0 0 0]\n",
      " [0 0 0 0]]\n",
      "2\n",
      "int64\n"
     ]
    }
   ],
   "execution_count": 25
  },
  {
   "metadata": {
    "ExecuteTime": {
     "end_time": "2025-07-29T08:58:32.444154Z",
     "start_time": "2025-07-29T08:58:32.439947Z"
    }
   },
   "cell_type": "code",
   "source": [
    "#全一\n",
    "arr=np.ones((3,4),dtype=int)\n",
    "print(arr)"
   ],
   "id": "277075b6407a5649",
   "outputs": [
    {
     "name": "stdout",
     "output_type": "stream",
     "text": [
      "[[1 1 1 1]\n",
      " [1 1 1 1]\n",
      " [1 1 1 1]]\n"
     ]
    }
   ],
   "execution_count": 26
  },
  {
   "metadata": {
    "ExecuteTime": {
     "end_time": "2025-07-29T08:59:04.514515Z",
     "start_time": "2025-07-29T08:59:04.510530Z"
    }
   },
   "cell_type": "code",
   "source": [
    "# 未初始化的\n",
    "arr=np.empty((3,4),dtype=int)\n",
    "print(arr)"
   ],
   "id": "dc391260f1ca6610",
   "outputs": [
    {
     "name": "stdout",
     "output_type": "stream",
     "text": [
      "[[1 1 1 1]\n",
      " [1 1 1 1]\n",
      " [1 1 1 1]]\n"
     ]
    }
   ],
   "execution_count": 28
  },
  {
   "metadata": {
    "ExecuteTime": {
     "end_time": "2025-07-29T09:01:27.004396Z",
     "start_time": "2025-07-29T09:01:27.001004Z"
    }
   },
   "cell_type": "code",
   "source": [
    "arr=np.full((3,4),2025)\n",
    "print(arr)"
   ],
   "id": "9e63c43d71cdd719",
   "outputs": [
    {
     "name": "stdout",
     "output_type": "stream",
     "text": [
      "[[2025 2025 2025 2025]\n",
      " [2025 2025 2025 2025]\n",
      " [2025 2025 2025 2025]]\n"
     ]
    }
   ],
   "execution_count": 32
  },
  {
   "metadata": {
    "ExecuteTime": {
     "end_time": "2025-07-29T09:03:39.289608Z",
     "start_time": "2025-07-29T09:03:39.284956Z"
    }
   },
   "cell_type": "code",
   "source": [
    "arr1=np.ones_like(arr)\n",
    "print(arr1)\n",
    "arr1=np.zeros_like(arr)\n",
    "print(arr1)\n",
    "arr1=np.empty_like(arr)\n",
    "print(arr1)"
   ],
   "id": "dd7a8a8f70186ebf",
   "outputs": [
    {
     "name": "stdout",
     "output_type": "stream",
     "text": [
      "[[1 1 1 1]\n",
      " [1 1 1 1]\n",
      " [1 1 1 1]]\n",
      "[[0 0 0 0]\n",
      " [0 0 0 0]\n",
      " [0 0 0 0]]\n",
      "[[1 1 1 1]\n",
      " [1 1 1 1]\n",
      " [1 1 1 1]]\n"
     ]
    }
   ],
   "execution_count": 33
  },
  {
   "metadata": {
    "ExecuteTime": {
     "end_time": "2025-07-29T09:06:53.209529Z",
     "start_time": "2025-07-29T09:06:53.203647Z"
    }
   },
   "cell_type": "code",
   "source": [
    "#等差数列 1 2 3 4 5\n",
    "arr=np.arange(1,5,1)\n",
    "print(arr)"
   ],
   "id": "7fb7fd556ab86756",
   "outputs": [
    {
     "name": "stdout",
     "output_type": "stream",
     "text": [
      "[1 2 3 4]\n"
     ]
    }
   ],
   "execution_count": 34
  },
  {
   "metadata": {},
   "cell_type": "markdown",
   "source": "### (start , end , step)  dont include end",
   "id": "b14311ee425e08aa"
  },
  {
   "metadata": {
    "ExecuteTime": {
     "end_time": "2025-07-29T09:15:43.534025Z",
     "start_time": "2025-07-29T09:15:43.529803Z"
    }
   },
   "cell_type": "code",
   "source": [
    "# 等间隔数列\n",
    "arr=np.linspace(0,100,5,dtype=int)   #start to end  中取 5个数\n",
    "print(arr)"
   ],
   "id": "6a3587336fc9c989",
   "outputs": [
    {
     "name": "stdout",
     "output_type": "stream",
     "text": [
      "[  0  25  50  75 100]\n"
     ]
    }
   ],
   "execution_count": 39
  },
  {
   "metadata": {
    "ExecuteTime": {
     "end_time": "2025-07-29T09:15:30.059964Z",
     "start_time": "2025-07-29T09:15:30.055718Z"
    }
   },
   "cell_type": "code",
   "source": [
    "arr=np.arange(0,101,25)\n",
    "print(arr)"
   ],
   "id": "76c69feb01a4cc60",
   "outputs": [
    {
     "name": "stdout",
     "output_type": "stream",
     "text": [
      "[  0  25  50  75 100]\n"
     ]
    }
   ],
   "execution_count": 38
  },
  {
   "metadata": {
    "ExecuteTime": {
     "end_time": "2025-07-29T09:18:22.764537Z",
     "start_time": "2025-07-29T09:18:22.759563Z"
    }
   },
   "cell_type": "code",
   "source": [
    "# 对数间隔数列\n",
    "arr=np.logspace(0,4,3,base=2)\n",
    "print(arr)"
   ],
   "id": "87b25b7751555240",
   "outputs": [
    {
     "name": "stdout",
     "output_type": "stream",
     "text": [
      "[ 1.  4. 16.]\n"
     ]
    }
   ],
   "execution_count": 40
  },
  {
   "metadata": {
    "ExecuteTime": {
     "end_time": "2025-07-29T09:26:59.395618Z",
     "start_time": "2025-07-29T09:26:59.389060Z"
    }
   },
   "cell_type": "code",
   "source": [
    "# 特殊矩阵\n",
    "# 单位举证 eye\n",
    "arr=np.eye(3)\n",
    "print(arr)\n",
    "arr1=np.eye(2,3,dtype=int)\n",
    "print(arr1)"
   ],
   "id": "5b80ba78e1730398",
   "outputs": [
    {
     "name": "stdout",
     "output_type": "stream",
     "text": [
      "[[1. 0. 0.]\n",
      " [0. 1. 0.]\n",
      " [0. 0. 1.]]\n",
      "[[1 0 0]\n",
      " [0 1 0]]\n"
     ]
    }
   ],
   "execution_count": 42
  },
  {
   "metadata": {
    "ExecuteTime": {
     "end_time": "2025-07-29T09:27:46.684711Z",
     "start_time": "2025-07-29T09:27:46.678364Z"
    }
   },
   "cell_type": "code",
   "source": [
    "# 对角矩阵 diag\n",
    "arr=np.diag([5,1,2,3])\n",
    "print(arr)\n"
   ],
   "id": "5e69b50466c1e4a1",
   "outputs": [
    {
     "name": "stdout",
     "output_type": "stream",
     "text": [
      "[[5 0 0 0]\n",
      " [0 1 0 0]\n",
      " [0 0 2 0]\n",
      " [0 0 0 3]]\n"
     ]
    }
   ],
   "execution_count": 44
  },
  {
   "metadata": {
    "ExecuteTime": {
     "end_time": "2025-07-29T09:30:59.900382Z",
     "start_time": "2025-07-29T09:30:59.871557Z"
    }
   },
   "cell_type": "code",
   "source": [
    "# 随机数组的生成\n",
    "# 生成0到1之间的随机的浮点数（均匀分布）\n",
    "arr=np.random.rand(2,3)\n",
    "print(arr)"
   ],
   "id": "d2a0a2a38e0a88f8",
   "outputs": [
    {
     "name": "stdout",
     "output_type": "stream",
     "text": [
      "[[0.92717193 0.87227623 0.37327892]\n",
      " [0.62406326 0.15696268 0.28654174]]\n"
     ]
    }
   ],
   "execution_count": 45
  },
  {
   "metadata": {
    "ExecuteTime": {
     "end_time": "2025-07-29T09:35:01.223596Z",
     "start_time": "2025-07-29T09:35:01.218822Z"
    }
   },
   "cell_type": "code",
   "source": [
    "# 生成指定范围区间的随机浮点数\n",
    "arr=np.random.uniform(3,6,(2,3))\n",
    "print(arr)"
   ],
   "id": "f1140e24a53d21c6",
   "outputs": [
    {
     "name": "stdout",
     "output_type": "stream",
     "text": [
      "[[3.05719484 4.62402176 5.5783861 ]\n",
      " [5.92863757 3.54508667 3.07855071]]\n"
     ]
    }
   ],
   "execution_count": 46
  },
  {
   "metadata": {
    "ExecuteTime": {
     "end_time": "2025-07-29T09:36:01.075095Z",
     "start_time": "2025-07-29T09:36:01.071416Z"
    }
   },
   "cell_type": "code",
   "source": [
    "# 生成指定范围区间的随机zheng数\n",
    "arr=np.random.randint(3,60,(2,3))\n",
    "print(arr)"
   ],
   "id": "c360ca76c015f3e",
   "outputs": [
    {
     "name": "stdout",
     "output_type": "stream",
     "text": [
      "[[15  6 56]\n",
      " [ 8 18 54]]\n"
     ]
    }
   ],
   "execution_count": 48
  },
  {
   "metadata": {
    "ExecuteTime": {
     "end_time": "2025-07-29T09:36:52.146545Z",
     "start_time": "2025-07-29T09:36:52.142819Z"
    }
   },
   "cell_type": "code",
   "source": [
    "# 生成随机数列（正态分布）\n",
    "arr=np.random.randn(2,3)\n",
    "print(arr)\n"
   ],
   "id": "f2864ead2c96b2c2",
   "outputs": [
    {
     "name": "stdout",
     "output_type": "stream",
     "text": [
      "[[ 0.67952784 -0.44118312 -0.36326673]\n",
      " [-0.76446888 -0.27520863  0.72197198]]\n"
     ]
    }
   ],
   "execution_count": 49
  },
  {
   "metadata": {
    "ExecuteTime": {
     "end_time": "2025-07-29T09:43:20.369350Z",
     "start_time": "2025-07-29T09:43:20.364334Z"
    }
   },
   "cell_type": "code",
   "source": [
    "# 设置随机种子\n",
    "np.random.seed(20)\n",
    "arr=np.random.randint(1,10,(2,5))\n",
    "print(arr)"
   ],
   "id": "ca41c3cd201389d9",
   "outputs": [
    {
     "name": "stdout",
     "output_type": "stream",
     "text": [
      "[[4 5 7 8 3]\n",
      " [1 7 9 6 4]]\n"
     ]
    }
   ],
   "execution_count": 50
  },
  {
   "metadata": {},
   "cell_type": "markdown",
   "source": [
    "### 4.ndarray 的数据类型\n",
    "布尔类型 bool\n",
    "\n",
    "整数类型 int  unit\n",
    "\n",
    "浮点数 float\n",
    "\n",
    "复数 complex"
   ],
   "id": "657baba62bf345d0"
  },
  {
   "metadata": {
    "ExecuteTime": {
     "end_time": "2025-07-29T09:52:40.539758Z",
     "start_time": "2025-07-29T09:52:40.536247Z"
    }
   },
   "cell_type": "code",
   "source": [
    "arr=np.array([1,0,3,0],dtype=bool)\n",
    "print(arr)"
   ],
   "id": "31b22f3267625bad",
   "outputs": [
    {
     "name": "stdout",
     "output_type": "stream",
     "text": [
      "[ True False  True False]\n"
     ]
    }
   ],
   "execution_count": 52
  },
  {
   "metadata": {
    "ExecuteTime": {
     "end_time": "2025-07-29T09:53:32.139090Z",
     "start_time": "2025-07-29T09:53:32.133402Z"
    }
   },
   "cell_type": "code",
   "source": [
    "arr=np.array([1,0,127,0],dtype=np.int8)\n",
    "print(arr)"
   ],
   "id": "77080333fd4a1f67",
   "outputs": [
    {
     "name": "stdout",
     "output_type": "stream",
     "text": [
      "[  1   0 127   0]\n"
     ]
    }
   ],
   "execution_count": 54
  },
  {
   "metadata": {},
   "cell_type": "markdown",
   "source": "5.索引与切片\n",
   "id": "3bfd7d6007f8e750"
  },
  {
   "metadata": {
    "ExecuteTime": {
     "end_time": "2025-07-30T12:44:31.523739Z",
     "start_time": "2025-07-30T12:44:31.324775Z"
    }
   },
   "cell_type": "code",
   "source": [
    "# 一维数组的索引与切片\n",
    "import numpy as np\n",
    "arr = np.random.randint(1,100,20)\n",
    "print(arr)"
   ],
   "id": "f0f37c5e8d186997",
   "outputs": [
    {
     "name": "stdout",
     "output_type": "stream",
     "text": [
      "[27  3 82 88 13 82 79 29 55 93 12 60  7 62  5 49 29 29 48 89]\n"
     ]
    }
   ],
   "execution_count": 4
  },
  {
   "metadata": {
    "ExecuteTime": {
     "end_time": "2025-07-30T12:45:00.778205Z",
     "start_time": "2025-07-30T12:45:00.772480Z"
    }
   },
   "cell_type": "code",
   "source": "print(arr[0])\n",
   "id": "7b5a25e33a24e7ed",
   "outputs": [
    {
     "name": "stdout",
     "output_type": "stream",
     "text": [
      "27\n"
     ]
    }
   ],
   "execution_count": 5
  },
  {
   "metadata": {
    "ExecuteTime": {
     "end_time": "2025-07-30T12:45:13.936246Z",
     "start_time": "2025-07-30T12:45:13.932282Z"
    }
   },
   "cell_type": "code",
   "source": "print(arr[3])",
   "id": "3c819e49c5e97763",
   "outputs": [
    {
     "name": "stdout",
     "output_type": "stream",
     "text": [
      "88\n"
     ]
    }
   ],
   "execution_count": 6
  },
  {
   "metadata": {
    "ExecuteTime": {
     "end_time": "2025-07-30T12:54:12.557429Z",
     "start_time": "2025-07-30T12:54:12.550051Z"
    }
   },
   "cell_type": "code",
   "source": [
    "print(arr[:]) #获取数据\n",
    "print(arr[3:])\n",
    "print(arr[3:5]) # 左半包右边不包 start : end+1\n",
    "print(arr[slice(3,5)])\n",
    "print(arr[slice(3,12,5)])\n",
    "print(arr[arr>10])\n",
    "print(arr[(arr>10) & (arr<50)])  # and 必须用& &&&&&&&"
   ],
   "id": "f3e45d7c8a5edbe6",
   "outputs": [
    {
     "name": "stdout",
     "output_type": "stream",
     "text": [
      "[27  3 82 88 13 82 79 29 55 93 12 60  7 62  5 49 29 29 48 89]\n",
      "[88 13 82 79 29 55 93 12 60  7 62  5 49 29 29 48 89]\n",
      "[88 13]\n",
      "[88 13]\n",
      "[88 55]\n",
      "[27 82 88 13 82 79 29 55 93 12 60 62 49 29 29 48 89]\n",
      "[27 13 29 12 49 29 29 48]\n"
     ]
    }
   ],
   "execution_count": 14
  },
  {
   "metadata": {
    "ExecuteTime": {
     "end_time": "2025-07-30T12:57:24.676530Z",
     "start_time": "2025-07-30T12:57:24.671912Z"
    }
   },
   "cell_type": "code",
   "source": [
    "# 二维数组的索引与切片\n",
    "arr=np.random.randint(1,100,(4,8))\n",
    "print(arr)"
   ],
   "id": "fe287fcb862c0a2",
   "outputs": [
    {
     "name": "stdout",
     "output_type": "stream",
     "text": [
      "[[57 15 87 51 20 58 17 41]\n",
      " [59 30 14 19 23 61 75 52]\n",
      " [44 92 91  4 43 82 81 45]\n",
      " [36 67 93 67 30 56 97 69]]\n"
     ]
    }
   ],
   "execution_count": 15
  },
  {
   "metadata": {
    "ExecuteTime": {
     "end_time": "2025-07-30T13:03:49.836651Z",
     "start_time": "2025-07-30T13:03:49.830416Z"
    }
   },
   "cell_type": "code",
   "source": [
    "print(arr[1,3])\n",
    "print(arr[:])\n",
    "print(arr[1,:])\n",
    "print(arr[arr>50]) #输出为一维数组\n",
    "print(arr[2][arr[2]>50])"
   ],
   "id": "d9ccff8045730f3",
   "outputs": [
    {
     "name": "stdout",
     "output_type": "stream",
     "text": [
      "19\n",
      "[[57 15 87 51 20 58 17 41]\n",
      " [59 30 14 19 23 61 75 52]\n",
      " [44 92 91  4 43 82 81 45]\n",
      " [36 67 93 67 30 56 97 69]]\n",
      "[59 30 14 19 23 61 75 52]\n",
      "[57 87 51 58 59 61 75 52 92 91 82 81 67 93 67 56 97 69]\n",
      "[92 91 82 81]\n"
     ]
    }
   ],
   "execution_count": 21
  },
  {
   "metadata": {},
   "cell_type": "markdown",
   "source": "5.ndarray的运算",
   "id": "12c00f31bb3525d"
  },
  {
   "metadata": {
    "ExecuteTime": {
     "end_time": "2025-07-30T13:06:50.804077Z",
     "start_time": "2025-07-30T13:06:50.784801Z"
    }
   },
   "cell_type": "code",
   "source": [
    "# 算数运算\n",
    "a = np.array([1,2,3])\n",
    "b = np.array([4,5,6])\n",
    "print(a+b)\n",
    "print(a-b)\n",
    "print(a*b)\n",
    "print(a/b)"
   ],
   "id": "9a34ee07fc6df18f",
   "outputs": [
    {
     "name": "stdout",
     "output_type": "stream",
     "text": [
      "[5 7 9]\n",
      "[-3 -3 -3]\n",
      "[ 4 10 18]\n",
      "[0.25 0.4  0.5 ]\n"
     ]
    }
   ],
   "execution_count": 23
  },
  {
   "metadata": {
    "ExecuteTime": {
     "end_time": "2025-07-30T13:10:21.435017Z",
     "start_time": "2025-07-30T13:10:21.419872Z"
    }
   },
   "cell_type": "code",
   "source": [
    "c=[1,2,3]\n",
    "d=[4,5,6]\n",
    "print(c+d)\n",
    "for i in range(len(c)):\n",
    "    d[i]=c[i]+d[i]\n",
    "print(d)"
   ],
   "id": "280aa34a6efab407",
   "outputs": [
    {
     "name": "stdout",
     "output_type": "stream",
     "text": [
      "[1, 2, 3, 4, 5, 6]\n",
      "[5, 7, 9]\n"
     ]
    }
   ],
   "execution_count": 25
  },
  {
   "metadata": {
    "ExecuteTime": {
     "end_time": "2025-07-30T13:12:17.461221Z",
     "start_time": "2025-07-30T13:12:17.455364Z"
    }
   },
   "cell_type": "code",
   "source": [
    "a = np.array([[1,2,3],[4,5,6],[7,8,9]])\n",
    "b = np.array([[4,5,6],[7,8,9],[10,11,12]])\n",
    "print(a+b)\n",
    "print(a-b)\n",
    "print(a*b)\n",
    "print(a/b)"
   ],
   "id": "883c489886b19920",
   "outputs": [
    {
     "name": "stdout",
     "output_type": "stream",
     "text": [
      "[[ 5  7  9]\n",
      " [11 13 15]\n",
      " [17 19 21]]\n",
      "[[-3 -3 -3]\n",
      " [-3 -3 -3]\n",
      " [-3 -3 -3]]\n",
      "[[  4  10  18]\n",
      " [ 28  40  54]\n",
      " [ 70  88 108]]\n",
      "[[0.25       0.4        0.5       ]\n",
      " [0.57142857 0.625      0.66666667]\n",
      " [0.7        0.72727273 0.75      ]]\n"
     ]
    }
   ],
   "execution_count": 26
  },
  {
   "metadata": {
    "ExecuteTime": {
     "end_time": "2025-07-30T13:20:45.321112Z",
     "start_time": "2025-07-30T13:20:45.315860Z"
    }
   },
   "cell_type": "code",
   "source": [
    "# 广播机制：1.获取形状 2。判断是否可以\n",
    "# 同一维度：相同、1\n",
    "a=np.array([1,2,3]) #1*3\n",
    "b=np.array([[4],[5],[6]])     #1*2\n",
    "print(a+b)"
   ],
   "id": "a3c1ea6f56e1c255",
   "outputs": [
    {
     "name": "stdout",
     "output_type": "stream",
     "text": [
      "[[5 6 7]\n",
      " [6 7 8]\n",
      " [7 8 9]]\n"
     ]
    }
   ],
   "execution_count": 29
  },
  {
   "metadata": {
    "ExecuteTime": {
     "end_time": "2025-07-30T13:23:21.104863Z",
     "start_time": "2025-07-30T13:23:21.086546Z"
    }
   },
   "cell_type": "code",
   "source": [
    "a = np.array([[1,2,3],[4,5,6],[7,8,9]])\n",
    "b = np.array([[4,5,6],[7,8,9],[10,11,12]])\n",
    "print(a @ b)\n",
    "print(a*b)"
   ],
   "id": "c4a5e05cc59bf430",
   "outputs": [
    {
     "name": "stdout",
     "output_type": "stream",
     "text": [
      "[[ 48  54  60]\n",
      " [111 126 141]\n",
      " [174 198 222]]\n",
      "[[  4  10  18]\n",
      " [ 28  40  54]\n",
      " [ 70  88 108]]\n"
     ]
    }
   ],
   "execution_count": 30
  },
  {
   "metadata": {},
   "cell_type": "markdown",
   "source": [
    "# 2.3 numpy 中的常用函数\n",
    "## 1.基本数学函数\n"
   ],
   "id": "4831363f7173e798"
  },
  {
   "metadata": {
    "ExecuteTime": {
     "end_time": "2025-07-30T13:30:18.368723Z",
     "start_time": "2025-07-30T13:30:18.360395Z"
    }
   },
   "cell_type": "code",
   "source": [
    "# 计算平方根\n",
    "print(np.sqrt(9)) # sqrt 返回浮点数\n",
    "print(np.sqrt([1,4,9]))\n",
    "arr=np.array([1,25,9])\n",
    "print(np.sqrt(arr))"
   ],
   "id": "172132c3c57a8640",
   "outputs": [
    {
     "name": "stdout",
     "output_type": "stream",
     "text": [
      "3.0\n",
      "[1. 2. 3.]\n",
      "[1. 5. 3.]\n"
     ]
    }
   ],
   "execution_count": 34
  },
  {
   "metadata": {
    "ExecuteTime": {
     "end_time": "2025-07-30T13:32:32.704346Z",
     "start_time": "2025-07-30T13:32:32.697004Z"
    }
   },
   "cell_type": "code",
   "source": [
    "# 计算指数  e^x\n",
    "print(np.exp(1))"
   ],
   "id": "8742bb9b244795cc",
   "outputs": [
    {
     "name": "stdout",
     "output_type": "stream",
     "text": [
      "2.718281828459045\n"
     ]
    }
   ],
   "execution_count": 37
  },
  {
   "metadata": {
    "ExecuteTime": {
     "end_time": "2025-07-30T13:33:57.751937Z",
     "start_time": "2025-07-30T13:33:57.745719Z"
    }
   },
   "cell_type": "code",
   "source": [
    "#计算自然对数 Ln y= x\n",
    "print(np.log(2.71))"
   ],
   "id": "1d094e7cfb6d0b4f",
   "outputs": [
    {
     "name": "stdout",
     "output_type": "stream",
     "text": [
      "0.9969486348916096\n"
     ]
    }
   ],
   "execution_count": 39
  },
  {
   "metadata": {
    "ExecuteTime": {
     "end_time": "2025-07-30T13:34:45.792925Z",
     "start_time": "2025-07-30T13:34:45.786368Z"
    }
   },
   "cell_type": "code",
   "source": [
    "#计算正弦、余弦\n",
    "print(np.sin(np.pi/2))"
   ],
   "id": "bf02bda92ac0c8cb",
   "outputs": [
    {
     "name": "stdout",
     "output_type": "stream",
     "text": [
      "1.0\n"
     ]
    }
   ],
   "execution_count": 41
  },
  {
   "metadata": {
    "ExecuteTime": {
     "end_time": "2025-07-30T13:35:20.797215Z",
     "start_time": "2025-07-30T13:35:20.789337Z"
    }
   },
   "cell_type": "code",
   "source": [
    "#计算绝对值\n",
    "arr=np.array([1,25,-9])\n",
    "print(abs(arr))"
   ],
   "id": "59e81971e0e17fbc",
   "outputs": [
    {
     "name": "stdout",
     "output_type": "stream",
     "text": [
      "[ 1 25  9]\n"
     ]
    }
   ],
   "execution_count": 42
  },
  {
   "metadata": {
    "ExecuteTime": {
     "end_time": "2025-07-30T13:36:01.073622Z",
     "start_time": "2025-07-30T13:36:01.066715Z"
    }
   },
   "cell_type": "code",
   "source": [
    "# 计算a 的 b 次幂\n",
    "print(np.power(arr,2))"
   ],
   "id": "2097625d3d8f6afd",
   "outputs": [
    {
     "name": "stdout",
     "output_type": "stream",
     "text": [
      "[  1 625  81]\n"
     ]
    }
   ],
   "execution_count": 43
  },
  {
   "metadata": {
    "ExecuteTime": {
     "end_time": "2025-07-30T13:37:20.146277Z",
     "start_time": "2025-07-30T13:37:20.129635Z"
    }
   },
   "cell_type": "code",
   "source": [
    "# 四舍五入\n",
    "print(np.round([3.2,4.5,6.7]))"
   ],
   "id": "9ae2645e5e9781f4",
   "outputs": [
    {
     "name": "stdout",
     "output_type": "stream",
     "text": [
      "[3. 4. 7.]\n"
     ]
    }
   ],
   "execution_count": 44
  },
  {
   "metadata": {
    "ExecuteTime": {
     "end_time": "2025-07-30T13:40:50.944943Z",
     "start_time": "2025-07-30T13:40:50.938426Z"
    }
   },
   "cell_type": "code",
   "source": [
    "# 向上取整，向下取整\n",
    "arr=np.array([1.6,25.1,81.7])\n",
    "print(np.ceil(arr))\n",
    "print(np.floor(arr))"
   ],
   "id": "3bf9ad140061cbfe",
   "outputs": [
    {
     "name": "stdout",
     "output_type": "stream",
     "text": [
      "[ 2. 26. 82.]\n",
      "[ 1. 25. 81.]\n"
     ]
    }
   ],
   "execution_count": 45
  },
  {
   "metadata": {
    "ExecuteTime": {
     "end_time": "2025-07-30T13:42:01.809728Z",
     "start_time": "2025-07-30T13:42:01.791291Z"
    }
   },
   "cell_type": "code",
   "source": [
    "# 检测缺失值NaN\n",
    "np.isnan([1,2,np.nan,3])"
   ],
   "id": "2538c1b99cea9806",
   "outputs": [
    {
     "data": {
      "text/plain": [
       "array([False, False,  True, False])"
      ]
     },
     "execution_count": 46,
     "metadata": {},
     "output_type": "execute_result"
    }
   ],
   "execution_count": 46
  },
  {
   "metadata": {},
   "cell_type": "markdown",
   "source": [
    "2.统计函数\n",
    "\n",
    "求和、计算平均值、中位数、标准差、方差\n",
    "\n",
    "最大值、最小值\n",
    "\n",
    "分位数、累计和、累计差"
   ],
   "id": "2e03eca2d632a136"
  },
  {
   "metadata": {
    "ExecuteTime": {
     "end_time": "2025-07-30T13:44:18.088928Z",
     "start_time": "2025-07-30T13:44:18.083771Z"
    }
   },
   "cell_type": "code",
   "source": [
    "arr=np.random.randint(1,20,8)\n",
    "print(arr)"
   ],
   "id": "e27058dfacdf7cfd",
   "outputs": [
    {
     "name": "stdout",
     "output_type": "stream",
     "text": [
      "[ 2  4 16 13 15 15  4 16]\n"
     ]
    }
   ],
   "execution_count": 49
  },
  {
   "metadata": {
    "ExecuteTime": {
     "end_time": "2025-07-30T13:45:05.890177Z",
     "start_time": "2025-07-30T13:45:05.886288Z"
    }
   },
   "cell_type": "code",
   "source": [
    "# 求和\n",
    "print(np.sum([1,3,2]))\n",
    "print(np.sum(arr))"
   ],
   "id": "88bf3f814af2921e",
   "outputs": [
    {
     "name": "stdout",
     "output_type": "stream",
     "text": [
      "6\n",
      "85\n"
     ]
    }
   ],
   "execution_count": 51
  },
  {
   "metadata": {
    "ExecuteTime": {
     "end_time": "2025-07-30T13:46:01.867859Z",
     "start_time": "2025-07-30T13:46:01.859193Z"
    }
   },
   "cell_type": "code",
   "source": [
    "# 平均值\n",
    "print(np.mean(arr))\n",
    "print(np.mean([1,3,2]))"
   ],
   "id": "5b3876d4fa197340",
   "outputs": [
    {
     "name": "stdout",
     "output_type": "stream",
     "text": [
      "10.625\n",
      "2.0\n"
     ]
    }
   ],
   "execution_count": 53
  },
  {
   "metadata": {
    "ExecuteTime": {
     "end_time": "2025-07-30T13:46:38.508157Z",
     "start_time": "2025-07-30T13:46:38.499218Z"
    }
   },
   "cell_type": "code",
   "source": [
    "#计算中位数 奇数取中间数，偶数个中间两个数除二\n",
    "print(np.median(arr))"
   ],
   "id": "e889caf8d8cfaa9a",
   "outputs": [
    {
     "name": "stdout",
     "output_type": "stream",
     "text": [
      "14.0\n"
     ]
    }
   ],
   "execution_count": 54
  },
  {
   "metadata": {
    "ExecuteTime": {
     "end_time": "2025-07-30T13:53:16.017732Z",
     "start_time": "2025-07-30T13:53:16.013501Z"
    }
   },
   "cell_type": "code",
   "source": [
    "# 计算标准差、方差\n",
    "print(np.var([1,3,2]))   #方差  2 和1 2 3 都比较接近\n",
    "print(np.std([1,3,2]))"
   ],
   "id": "222e2a95aa62920e",
   "outputs": [
    {
     "name": "stdout",
     "output_type": "stream",
     "text": [
      "0.6666666666666666\n",
      "0.816496580927726\n"
     ]
    }
   ],
   "execution_count": 56
  },
  {
   "metadata": {
    "ExecuteTime": {
     "end_time": "2025-07-30T13:59:31.685124Z",
     "start_time": "2025-07-30T13:59:31.680209Z"
    }
   },
   "cell_type": "code",
   "source": [
    "# 计算最大值 最小值   索引\n",
    "print(arr)\n",
    "print(np.max(arr),np.argmax(arr))\n",
    "print(np.min(arr),np.argmin(arr))"
   ],
   "id": "b55ca49928954f40",
   "outputs": [
    {
     "name": "stdout",
     "output_type": "stream",
     "text": [
      "[ 2  4 16 13 15 15  4 16]\n",
      "16 2\n",
      "2 0\n"
     ]
    }
   ],
   "execution_count": 59
  },
  {
   "metadata": {
    "ExecuteTime": {
     "end_time": "2025-07-30T14:00:24.064060Z",
     "start_time": "2025-07-30T14:00:24.059586Z"
    }
   },
   "cell_type": "code",
   "source": [
    "# 分位数   percnetile\n",
    "print(np.median([1,2,3]))\n",
    "print(np.median([1,2,3,4]))"
   ],
   "id": "ca70132d9e7f22a2",
   "outputs": [
    {
     "name": "stdout",
     "output_type": "stream",
     "text": [
      "2.0\n",
      "2.5\n"
     ]
    }
   ],
   "execution_count": 61
  },
  {
   "metadata": {
    "ExecuteTime": {
     "end_time": "2025-07-30T14:05:05.710233Z",
     "start_time": "2025-07-30T14:05:05.705522Z"
    }
   },
   "cell_type": "code",
   "source": [
    "print(np.percentile(arr,50))\n",
    "print(np.median(arr))\n",
    "print(np.percentile(arr,100))"
   ],
   "id": "abe5c0d8eb29e681",
   "outputs": [
    {
     "name": "stdout",
     "output_type": "stream",
     "text": [
      "14.0\n",
      "14.0\n",
      "16.0\n"
     ]
    }
   ],
   "execution_count": 64
  },
  {
   "metadata": {
    "ExecuteTime": {
     "end_time": "2025-07-30T14:12:25.816399Z",
     "start_time": "2025-07-30T14:12:25.811894Z"
    }
   },
   "cell_type": "code",
   "source": [
    "# 累积和 累积积\n",
    "print(arr)\n",
    "print(np.cumsum(arr))\n",
    "print(np.cumprod(arr))"
   ],
   "id": "68cf4f33b2d862e6",
   "outputs": [
    {
     "name": "stdout",
     "output_type": "stream",
     "text": [
      "[ 2  4 16 13 15 15  4 16]\n",
      "[ 2  6 22 35 50 65 69 85]\n",
      "[       2        8      128     1664    24960   374400  1497600 23961600]\n"
     ]
    }
   ],
   "execution_count": 67
  },
  {
   "metadata": {},
   "cell_type": "markdown",
   "source": [
    "## 比较函数\n",
    "\n",
    "大于、小于、等于\n",
    "\n",
    "逻辑与、或、非\n",
    "\n",
    "检查数组中是否有一个True"
   ],
   "id": "97733eadafc762e0"
  },
  {
   "metadata": {
    "ExecuteTime": {
     "end_time": "2025-07-30T14:16:23.800555Z",
     "start_time": "2025-07-30T14:16:23.796014Z"
    }
   },
   "cell_type": "code",
   "source": [
    "# 是否大于\n",
    "print(np.greater([3,4,5,6,7],3))\n",
    "# 是否小于\n",
    "print(np.less([3,4,5,6,7],3))\n",
    "# 是否等于\n",
    "print(np.equal([3,4,5,6,3],3))\n",
    "print(np.equal([3,4,5,6,7],[3,4,5,6,7]))"
   ],
   "id": "eb085511496e989",
   "outputs": [
    {
     "name": "stdout",
     "output_type": "stream",
     "text": [
      "[False  True  True  True  True]\n",
      "[False False False False False]\n",
      "[ True False False False  True]\n",
      "[ True  True  True  True  True]\n"
     ]
    }
   ],
   "execution_count": 71
  },
  {
   "metadata": {
    "ExecuteTime": {
     "end_time": "2025-07-30T14:25:23.420725Z",
     "start_time": "2025-07-30T14:25:23.415637Z"
    }
   },
   "cell_type": "code",
   "source": [
    "# 逻辑与或非\n",
    "print(np.logical_and([1,0],[1,1]))\n",
    "print(np.logical_not([1,0]))\n",
    "print(np.logical_or([1,0],[1,1]))"
   ],
   "id": "aac95b29c9e22ab3",
   "outputs": [
    {
     "name": "stdout",
     "output_type": "stream",
     "text": [
      "[ True False]\n",
      "[False  True]\n",
      "[ True  True]\n"
     ]
    }
   ],
   "execution_count": 74
  },
  {
   "metadata": {
    "ExecuteTime": {
     "end_time": "2025-07-30T14:27:55.842012Z",
     "start_time": "2025-07-30T14:27:55.838043Z"
    }
   },
   "cell_type": "code",
   "source": [
    "# 至少有一个元素为true\n",
    "print(np.any([1,0]))\n",
    "# 全部元素为true\n",
    "print(np.all([1,0]))"
   ],
   "id": "de8dda85b31cd27c",
   "outputs": [
    {
     "name": "stdout",
     "output_type": "stream",
     "text": [
      "True\n",
      "False\n"
     ]
    }
   ],
   "execution_count": 76
  },
  {
   "metadata": {
    "ExecuteTime": {
     "end_time": "2025-07-30T14:32:26.127862Z",
     "start_time": "2025-07-30T14:32:26.123167Z"
    }
   },
   "cell_type": "code",
   "source": [
    "# 自定义条件\n",
    "# print(np.where(条件，符合条件取得值，不符合条件取得值））\n",
    "arr=np.random.randint(1,20,5)\n",
    "print(arr)"
   ],
   "id": "b93baf55d217a5ff",
   "outputs": [
    {
     "name": "stdout",
     "output_type": "stream",
     "text": [
      "[12 19 13  7 19]\n"
     ]
    }
   ],
   "execution_count": 78
  },
  {
   "metadata": {
    "ExecuteTime": {
     "end_time": "2025-07-30T14:32:51.465944Z",
     "start_time": "2025-07-30T14:32:51.461963Z"
    }
   },
   "cell_type": "code",
   "source": "print(np.where(arr>10,arr,0))",
   "id": "a324c49d0c1e3a4c",
   "outputs": [
    {
     "name": "stdout",
     "output_type": "stream",
     "text": [
      "[12 19 13  0 19]\n"
     ]
    }
   ],
   "execution_count": 79
  },
  {
   "metadata": {
    "ExecuteTime": {
     "end_time": "2025-07-30T14:38:39.437542Z",
     "start_time": "2025-07-30T14:38:39.431692Z"
    }
   },
   "cell_type": "code",
   "source": "print(np.where(arr<8,\"不及格\",np.where(arr<14,\"良好\",\"优秀 \")))",
   "id": "b1df1cd0b07dcf2c",
   "outputs": [
    {
     "name": "stdout",
     "output_type": "stream",
     "text": [
      "['良好' '优秀 ' '良好' '不及格' '优秀 ']\n"
     ]
    }
   ],
   "execution_count": 81
  },
  {
   "metadata": {
    "ExecuteTime": {
     "end_time": "2025-07-31T04:19:51.385473Z",
     "start_time": "2025-07-31T04:19:51.370629Z"
    }
   },
   "cell_type": "code",
   "source": [
    "# 排序函数\n",
    "import numpy as np\n",
    "np.random.seed(0)\n",
    "arr=np.random.randint(1,20,5)\n",
    "print(arr)\n",
    "# arr.sort()\n",
    "# print(arr)\n",
    "print(np.sort(arr)) # 不改变原始数组\n",
    "print(np.argsort(arr))"
   ],
   "id": "64a4b6b74d6b5c8c",
   "outputs": [
    {
     "name": "stdout",
     "output_type": "stream",
     "text": [
      "[13 16  1  4  4]\n",
      "[ 1  4  4 13 16]\n",
      "[2 3 4 0 1]\n"
     ]
    }
   ],
   "execution_count": 6
  },
  {
   "metadata": {
    "ExecuteTime": {
     "end_time": "2025-07-31T04:20:21.349283Z",
     "start_time": "2025-07-31T04:20:21.332973Z"
    }
   },
   "cell_type": "code",
   "source": [
    "# 去重函数\n",
    "print(np.unique(arr))"
   ],
   "id": "e925795a7cf641e3",
   "outputs": [
    {
     "name": "stdout",
     "output_type": "stream",
     "text": [
      "[ 1  4 13 16]\n"
     ]
    }
   ],
   "execution_count": 7
  },
  {
   "metadata": {
    "ExecuteTime": {
     "end_time": "2025-07-31T04:21:44.222455Z",
     "start_time": "2025-07-31T04:21:44.218251Z"
    }
   },
   "cell_type": "code",
   "source": [
    "# 数组的拼接\n",
    "arr1=np.array([1,2,3,4,5])\n",
    "arr2=np.array([1,2,3,4,5])\n",
    "print(arr1+arr2)\n",
    "print(np.concatenate((arr1,arr2)))"
   ],
   "id": "c25db12f9e902393",
   "outputs": [
    {
     "name": "stdout",
     "output_type": "stream",
     "text": [
      "[ 2  4  6  8 10]\n",
      "[1 2 3 4 5 1 2 3 4 5]\n"
     ]
    }
   ],
   "execution_count": 9
  },
  {
   "metadata": {
    "ExecuteTime": {
     "end_time": "2025-07-31T04:23:03.882073Z",
     "start_time": "2025-07-31T04:23:03.874583Z"
    }
   },
   "cell_type": "code",
   "source": [
    "# 数组的分割\n",
    "print(np.split(arr1,5)) # 等分\n",
    "print(np.split(arr1,[2,4])) # 位置切割"
   ],
   "id": "dd67ca5da9f60571",
   "outputs": [
    {
     "name": "stdout",
     "output_type": "stream",
     "text": [
      "[array([1]), array([2]), array([3]), array([4]), array([5])]\n",
      "[array([1, 2]), array([3, 4]), array([5])]\n"
     ]
    }
   ],
   "execution_count": 12
  },
  {
   "metadata": {
    "ExecuteTime": {
     "end_time": "2025-07-31T04:24:33.627604Z",
     "start_time": "2025-07-31T04:24:33.622924Z"
    }
   },
   "cell_type": "code",
   "source": [
    "# 调整数组的形状\n",
    "print(np.reshape(arr1,(5,1)))"
   ],
   "id": "bf7fe53e21076d44",
   "outputs": [
    {
     "name": "stdout",
     "output_type": "stream",
     "text": [
      "[[1]\n",
      " [2]\n",
      " [3]\n",
      " [4]\n",
      " [5]]\n"
     ]
    }
   ],
   "execution_count": 16
  },
  {
   "metadata": {},
   "cell_type": "markdown",
   "source": "### 3.计算函数训练",
   "id": "dca203dbfa8630b3"
  },
  {
   "metadata": {
    "ExecuteTime": {
     "end_time": "2025-07-31T04:48:04.723730Z",
     "start_time": "2025-07-31T04:48:04.716853Z"
    }
   },
   "cell_type": "code",
   "source": [
    "temps=np.array([28,30,29,31,32,30,29])\n",
    "print(temps)\n",
    "print('mean temperature','%.3f'%np.mean(temps))\n",
    "print('maxtemperature',np.max(temps))\n",
    "print('mintemperature',np.min(temps))\n",
    "print('气温超过30度的天数')\n",
    "print(len(temps[np.where(temps>30)]))"
   ],
   "id": "d35ae5241bd9c01b",
   "outputs": [
    {
     "name": "stdout",
     "output_type": "stream",
     "text": [
      "[28 30 29 31 32 30 29]\n",
      "mean temperature 29.857\n",
      "maxtemperature 32\n",
      "mintemperature 28\n",
      "气温超过30度的天数\n",
      "2\n"
     ]
    }
   ],
   "execution_count": 23
  },
  {
   "metadata": {
    "ExecuteTime": {
     "end_time": "2025-07-31T04:50:23.056241Z",
     "start_time": "2025-07-31T04:50:23.041444Z"
    }
   },
   "cell_type": "code",
   "source": [
    "print(np.where(temps>30,1,0))\n",
    "print(np.cumsum(np.where(temps>30,1,0))[-1])"
   ],
   "id": "c741170cb386349a",
   "outputs": [
    {
     "name": "stdout",
     "output_type": "stream",
     "text": [
      "[0 0 0 1 1 0 0]\n",
      "2\n"
     ]
    }
   ],
   "execution_count": 26
  },
  {
   "metadata": {
    "ExecuteTime": {
     "end_time": "2025-07-31T04:55:26.793078Z",
     "start_time": "2025-07-31T04:55:26.785630Z"
    }
   },
   "cell_type": "code",
   "source": [
    "score=np.array([85,90,78,88,92])\n",
    "print('maen score',np.mean(score))\n",
    "print('median score',np.median(score))\n",
    "print('std score','%.3f'%np.std(score)) #标准差\n",
    "print('var score','%.3f'%np.var(score))\n",
    "print(score/10)"
   ],
   "id": "79cfc01871511850",
   "outputs": [
    {
     "name": "stdout",
     "output_type": "stream",
     "text": [
      "maen score 86.6\n",
      "median score 88.0\n",
      "std score 4.883\n",
      "var score 23.840\n",
      "[8.5 9.  7.8 8.8 9.2]\n"
     ]
    }
   ],
   "execution_count": 32
  },
  {
   "metadata": {
    "ExecuteTime": {
     "end_time": "2025-07-31T05:03:48.208366Z",
     "start_time": "2025-07-31T05:03:48.203663Z"
    }
   },
   "cell_type": "code",
   "source": [
    "\"\"\"\n",
    "\n",
    "题目4：随机数据生成\n",
    "\n",
    "生成一个（3，4）的随机整数数组，范围[0，10）。\n",
    "\n",
    "计算每列的最值和每行的最小值。\n",
    "\n",
    "—将数组中的所有奇数替换为—1。\n",
    "\n",
    "\"\"\"\n",
    "arr=np.random.randint(0,10,(3,4))\n",
    "print(arr)\n",
    "print('每列的最大值',np.max(arr,axis=0))  #axis=0 wei lie  1wei hang\n",
    "print('meileide min',np.min(arr,axis=0))"
   ],
   "id": "2d00a7a1a8f6ee1c",
   "outputs": [
    {
     "name": "stdout",
     "output_type": "stream",
     "text": [
      "[[5 0 2 3]\n",
      " [8 1 3 3]\n",
      " [3 7 0 1]]\n",
      "每列的最大值 [8 7 3 3]\n",
      "meileide min [3 0 0 1]\n"
     ]
    }
   ],
   "execution_count": 35
  },
  {
   "metadata": {
    "ExecuteTime": {
     "end_time": "2025-07-31T05:04:57.499822Z",
     "start_time": "2025-07-31T05:04:57.495596Z"
    }
   },
   "cell_type": "code",
   "source": [
    "arr1=np.where(arr%2==1,-1,arr)\n",
    "print(arr1)"
   ],
   "id": "4bbb66c2fbcaaa32",
   "outputs": [
    {
     "name": "stdout",
     "output_type": "stream",
     "text": [
      "[[-1  0  2 -1]\n",
      " [ 8 -1 -1 -1]\n",
      " [-1 -1  0 -1]]\n"
     ]
    }
   ],
   "execution_count": 37
  },
  {
   "metadata": {
    "ExecuteTime": {
     "end_time": "2025-07-31T05:12:20.089637Z",
     "start_time": "2025-07-31T05:12:20.073210Z"
    }
   },
   "cell_type": "code",
   "source": [
    "\"\"\"\n",
    "题目5：数组变形\n",
    "\n",
    "创建一个1到12的一维数组，并转换为（3，4）的二维数组。\n",
    "\n",
    "—计算每行的和与每列的平均值。\n",
    "\n",
    "—将数组展平为一维数组。\n",
    "\n",
    "\"\"\"\n",
    "arr=np.arange(1,13)\n",
    "print(arr)\n",
    "print(np.reshape(arr,(3,4)))\n",
    "arr=np.reshape(arr,(3,4))\n",
    "print('每行的和：',np.sum(arr,axis=1))\n",
    "print('每列的平均值',np.mean(arr,axis=0))\n",
    "print(np.reshape(arr,(12)))"
   ],
   "id": "7c284039d4dba977",
   "outputs": [
    {
     "name": "stdout",
     "output_type": "stream",
     "text": [
      "[ 1  2  3  4  5  6  7  8  9 10 11 12]\n",
      "[[ 1  2  3  4]\n",
      " [ 5  6  7  8]\n",
      " [ 9 10 11 12]]\n",
      "每行的和： [10 26 42]\n",
      "每列的平均值 [5. 6. 7. 8.]\n",
      "[ 1  2  3  4  5  6  7  8  9 10 11 12]\n"
     ]
    }
   ],
   "execution_count": 48
  },
  {
   "metadata": {},
   "cell_type": "code",
   "outputs": [],
   "execution_count": null,
   "source": "",
   "id": "f3bc2bf8e164e7b2"
  }
 ],
 "metadata": {
  "kernelspec": {
   "display_name": "Python 3",
   "language": "python",
   "name": "python3"
  },
  "language_info": {
   "codemirror_mode": {
    "name": "ipython",
    "version": 2
   },
   "file_extension": ".py",
   "mimetype": "text/x-python",
   "name": "python",
   "nbconvert_exporter": "python",
   "pygments_lexer": "ipython2",
   "version": "2.7.6"
  }
 },
 "nbformat": 4,
 "nbformat_minor": 5
}
