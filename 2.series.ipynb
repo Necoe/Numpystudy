{
 "cells": [
  {
   "cell_type": "code",
   "id": "initial_id",
   "metadata": {
    "collapsed": true,
    "ExecuteTime": {
     "end_time": "2025-08-05T12:51:23.983531Z",
     "start_time": "2025-08-05T12:51:23.979214Z"
    }
   },
   "source": [
    "# series 的创建\n",
    "import numpy as np\n",
    "import pandas as pd\n",
    "s = pd.Series([12,3,4,5])\n",
    "#自定义索引\n",
    "s=pd.Series([10,2,3,4],index=['a','b','c','d'],name='月份')\n",
    "print(s)"
   ],
   "outputs": [
    {
     "name": "stdout",
     "output_type": "stream",
     "text": [
      "a    10\n",
      "b     2\n",
      "c     3\n",
      "d     4\n",
      "Name: 月份, dtype: int64\n"
     ]
    }
   ],
   "execution_count": 22
  },
  {
   "metadata": {
    "ExecuteTime": {
     "end_time": "2025-08-05T12:30:15.547470Z",
     "start_time": "2025-08-05T12:30:15.543275Z"
    }
   },
   "cell_type": "code",
   "source": [
    "# 通过字典来创建\n",
    "s= pd.Series({\"a\":1,\"b\":2,\"c\":3,\"d\":4})\n",
    "print(s)"
   ],
   "id": "68ae3f9c9700f21c",
   "outputs": [
    {
     "name": "stdout",
     "output_type": "stream",
     "text": [
      "a    1\n",
      "b    2\n",
      "c    3\n",
      "d    4\n",
      "dtype: int64\n"
     ]
    }
   ],
   "execution_count": 3
  },
  {
   "metadata": {
    "ExecuteTime": {
     "end_time": "2025-08-05T12:31:29.678308Z",
     "start_time": "2025-08-05T12:31:29.657502Z"
    }
   },
   "cell_type": "code",
   "source": [
    "s1 = pd.Series(s,index=[\"a\",\"b\"])\n",
    "print(s1)"
   ],
   "id": "b1091031a7fa07e3",
   "outputs": [
    {
     "name": "stdout",
     "output_type": "stream",
     "text": [
      "a    1\n",
      "b    2\n",
      "dtype: int64\n"
     ]
    }
   ],
   "execution_count": 4
  },
  {
   "metadata": {},
   "cell_type": "markdown",
   "source": [
    "# Series的属性\n",
    "\"\"\"\n",
    "\n",
    "loc[]\n",
    "\n",
    "iloc[]\n",
    "\n",
    "at[]\n",
    "\n",
    "iat[]\n",
    "\n",
    "\"\"\""
   ],
   "id": "9c961f527e76966b"
  },
  {
   "metadata": {
    "ExecuteTime": {
     "end_time": "2025-08-05T12:36:08.247984Z",
     "start_time": "2025-08-05T12:36:08.241297Z"
    }
   },
   "cell_type": "code",
   "source": [
    "print(s.index)\n",
    "print(s.values)\n",
    "print(s.shape,s.ndim,s.size)\n",
    "print(s.dtype,s.name)"
   ],
   "id": "277f20d1e258840f",
   "outputs": [
    {
     "name": "stdout",
     "output_type": "stream",
     "text": [
      "Index(['a', 'b', 'c', 'd'], dtype='object')\n",
      "[1 2 3 4]\n",
      "(4,) 1 4\n",
      "int64 None\n"
     ]
    }
   ],
   "execution_count": 8
  },
  {
   "metadata": {
    "ExecuteTime": {
     "end_time": "2025-08-05T12:38:40.892694Z",
     "start_time": "2025-08-05T12:38:40.884307Z"
    }
   },
   "cell_type": "code",
   "source": [
    "print(s.loc['a':'c']) #显示索引\n",
    "print(s.iloc[0:1]) # 隐式索引\n",
    "print(s.at['a']) #不支持切片"
   ],
   "id": "62dd99bbc26e3007",
   "outputs": [
    {
     "name": "stdout",
     "output_type": "stream",
     "text": [
      "a    1\n",
      "b    2\n",
      "c    3\n",
      "dtype: int64\n",
      "a    1\n",
      "dtype: int64\n",
      "1\n"
     ]
    }
   ],
   "execution_count": 12
  },
  {
   "metadata": {
    "ExecuteTime": {
     "end_time": "2025-08-05T12:44:13.882714Z",
     "start_time": "2025-08-05T12:44:13.874147Z"
    }
   },
   "cell_type": "code",
   "source": [
    "# 访问数据\n",
    "print(s)\n",
    "print(s['c'])\n",
    "print(s[s<3])\n",
    "s.head() #取前五个数据（默认）\n",
    "s.tail() #取后五个数据"
   ],
   "id": "e68c6c421955446b",
   "outputs": [
    {
     "name": "stdout",
     "output_type": "stream",
     "text": [
      "a    1\n",
      "b    2\n",
      "c    3\n",
      "d    4\n",
      "dtype: int64\n",
      "3\n",
      "a    1\n",
      "b    2\n",
      "dtype: int64\n"
     ]
    },
    {
     "data": {
      "text/plain": [
       "a    1\n",
       "b    2\n",
       "c    3\n",
       "d    4\n",
       "dtype: int64"
      ]
     },
     "execution_count": 17,
     "metadata": {},
     "output_type": "execute_result"
    }
   ],
   "execution_count": 17
  },
  {
   "metadata": {
    "ExecuteTime": {
     "end_time": "2025-08-05T12:53:14.458422Z",
     "start_time": "2025-08-05T12:53:14.453929Z"
    }
   },
   "cell_type": "code",
   "source": [
    "# 常见函数\n",
    "s = pd.Series([10,2,np.nan,None,3,4,5],index=['A','B','C','D','E','F',\"G\"],name='data')\n",
    "print(s)"
   ],
   "id": "f3f60edbfcd8ecaf",
   "outputs": [
    {
     "name": "stdout",
     "output_type": "stream",
     "text": [
      "A    10.0\n",
      "B     2.0\n",
      "C     NaN\n",
      "D     NaN\n",
      "E     3.0\n",
      "F     4.0\n",
      "G     5.0\n",
      "Name: data, dtype: float64\n"
     ]
    }
   ],
   "execution_count": 27
  },
  {
   "metadata": {
    "ExecuteTime": {
     "end_time": "2025-08-05T12:53:34.173125Z",
     "start_time": "2025-08-05T12:53:34.165662Z"
    }
   },
   "cell_type": "code",
   "source": [
    "s.head(3)\n",
    "s.tail()\n"
   ],
   "id": "b0945ac26893cf2d",
   "outputs": [
    {
     "data": {
      "text/plain": [
       "C    NaN\n",
       "D    NaN\n",
       "E    3.0\n",
       "F    4.0\n",
       "G    5.0\n",
       "Name: data, dtype: float64"
      ]
     },
     "execution_count": 29,
     "metadata": {},
     "output_type": "execute_result"
    }
   ],
   "execution_count": 29
  },
  {
   "metadata": {
    "ExecuteTime": {
     "end_time": "2025-08-05T12:55:11.937227Z",
     "start_time": "2025-08-05T12:55:11.917396Z"
    }
   },
   "cell_type": "code",
   "source": [
    "# 查看所有描述信息\n",
    "s.describe()"
   ],
   "id": "c32ca322a95340af",
   "outputs": [
    {
     "data": {
      "text/plain": [
       "count     5.000000\n",
       "mean      4.800000\n",
       "std       3.114482\n",
       "min       2.000000\n",
       "25%       3.000000\n",
       "50%       4.000000\n",
       "75%       5.000000\n",
       "max      10.000000\n",
       "Name: data, dtype: float64"
      ]
     },
     "execution_count": 30,
     "metadata": {},
     "output_type": "execute_result"
    }
   ],
   "execution_count": 30
  },
  {
   "metadata": {
    "ExecuteTime": {
     "end_time": "2025-08-05T12:57:26.796565Z",
     "start_time": "2025-08-05T12:57:26.785152Z"
    }
   },
   "cell_type": "code",
   "source": [
    "# 获取元素个数（忽略缺失值）\n",
    "print(s.count())"
   ],
   "id": "f5636dcbe0fab50",
   "outputs": [
    {
     "name": "stdout",
     "output_type": "stream",
     "text": [
      "5\n"
     ]
    }
   ],
   "execution_count": 31
  },
  {
   "metadata": {
    "ExecuteTime": {
     "end_time": "2025-08-05T12:58:12.325878Z",
     "start_time": "2025-08-05T12:58:12.320855Z"
    }
   },
   "cell_type": "code",
   "source": [
    "# 获取索引\n",
    "print(s.keys()) #fangfa\n",
    "print(s.index)  # shuxing"
   ],
   "id": "8300d14567a5648b",
   "outputs": [
    {
     "name": "stdout",
     "output_type": "stream",
     "text": [
      "Index(['A', 'B', 'C', 'D', 'E', 'F', 'G'], dtype='object')\n",
      "Index(['A', 'B', 'C', 'D', 'E', 'F', 'G'], dtype='object')\n"
     ]
    }
   ],
   "execution_count": 32
  },
  {
   "metadata": {
    "ExecuteTime": {
     "end_time": "2025-08-05T12:58:37.710387Z",
     "start_time": "2025-08-05T12:58:37.704350Z"
    }
   },
   "cell_type": "code",
   "source": "print(s.isna())  #检查是否是缺失值",
   "id": "59676e91e46ed19e",
   "outputs": [
    {
     "name": "stdout",
     "output_type": "stream",
     "text": [
      "A    False\n",
      "B    False\n",
      "C     True\n",
      "D     True\n",
      "E    False\n",
      "F    False\n",
      "G    False\n",
      "Name: data, dtype: bool\n"
     ]
    }
   ],
   "execution_count": 33
  },
  {
   "metadata": {
    "ExecuteTime": {
     "end_time": "2025-08-05T13:01:40.165107Z",
     "start_time": "2025-08-05T13:01:40.160370Z"
    }
   },
   "cell_type": "code",
   "source": "s.isin([4,5])  # 检查元素是否存在series中",
   "id": "56a00c75dff79d1d",
   "outputs": [
    {
     "data": {
      "text/plain": [
       "A    False\n",
       "B    False\n",
       "C    False\n",
       "D    False\n",
       "E    False\n",
       "F     True\n",
       "G     True\n",
       "Name: data, dtype: bool"
      ]
     },
     "execution_count": 36,
     "metadata": {},
     "output_type": "execute_result"
    }
   ],
   "execution_count": 36
  },
  {
   "metadata": {
    "ExecuteTime": {
     "end_time": "2025-08-05T13:03:42.309722Z",
     "start_time": "2025-08-05T13:03:42.304425Z"
    }
   },
   "cell_type": "code",
   "source": [
    "print(s.mean(),\n",
    "      s.std(),\n",
    "      s.var(),\n",
    "      s.sum(),\n",
    "      s.min(),\n",
    "      s.max(),\n",
    "      s.median())"
   ],
   "id": "854f993a07c7976a",
   "outputs": [
    {
     "name": "stdout",
     "output_type": "stream",
     "text": [
      "4.8 3.1144823004794877 9.700000000000001 24.0 2.0 10.0 4.0\n"
     ]
    }
   ],
   "execution_count": 41
  },
  {
   "metadata": {
    "ExecuteTime": {
     "end_time": "2025-08-05T13:03:57.937521Z",
     "start_time": "2025-08-05T13:03:57.918187Z"
    }
   },
   "cell_type": "code",
   "source": "s.sort_values()",
   "id": "a8a5a22f24b329b6",
   "outputs": [
    {
     "data": {
      "text/plain": [
       "B     2.0\n",
       "E     3.0\n",
       "F     4.0\n",
       "G     5.0\n",
       "A    10.0\n",
       "C     NaN\n",
       "D     NaN\n",
       "Name: data, dtype: float64"
      ]
     },
     "execution_count": 42,
     "metadata": {},
     "output_type": "execute_result"
    }
   ],
   "execution_count": 42
  },
  {
   "metadata": {
    "ExecuteTime": {
     "end_time": "2025-08-05T13:10:26.728767Z",
     "start_time": "2025-08-05T13:10:26.719132Z"
    }
   },
   "cell_type": "code",
   "source": [
    "print(s.quantile(0.25))\n",
    "print(s.mode())\n",
    "s['h']=4\n",
    "print(s.mode())"
   ],
   "id": "e5009e042148f0a9",
   "outputs": [
    {
     "name": "stdout",
     "output_type": "stream",
     "text": [
      "3.0\n",
      "0     2.0\n",
      "1     3.0\n",
      "2     4.0\n",
      "3     5.0\n",
      "4    10.0\n",
      "Name: data, dtype: float64\n",
      "0    4.0\n",
      "Name: data, dtype: float64\n"
     ]
    }
   ],
   "execution_count": 45
  },
  {
   "metadata": {
    "ExecuteTime": {
     "end_time": "2025-08-05T13:10:42.019193Z",
     "start_time": "2025-08-05T13:10:42.001482Z"
    }
   },
   "cell_type": "code",
   "source": "print(s.value_counts())",
   "id": "8ce67e193c36701c",
   "outputs": [
    {
     "name": "stdout",
     "output_type": "stream",
     "text": [
      "data\n",
      "4.0     2\n",
      "10.0    1\n",
      "2.0     1\n",
      "3.0     1\n",
      "5.0     1\n",
      "Name: count, dtype: int64\n"
     ]
    }
   ],
   "execution_count": 46
  },
  {
   "metadata": {
    "ExecuteTime": {
     "end_time": "2025-08-05T13:11:59.090190Z",
     "start_time": "2025-08-05T13:11:59.072863Z"
    }
   },
   "cell_type": "code",
   "source": "s.drop_duplicates()",
   "id": "9e3cf9cb0ed175d6",
   "outputs": [
    {
     "data": {
      "text/plain": [
       "A    10.0\n",
       "B     2.0\n",
       "C     NaN\n",
       "E     3.0\n",
       "F     4.0\n",
       "G     5.0\n",
       "Name: data, dtype: float64"
      ]
     },
     "execution_count": 47,
     "metadata": {},
     "output_type": "execute_result"
    }
   ],
   "execution_count": 47
  },
  {
   "metadata": {
    "ExecuteTime": {
     "end_time": "2025-08-05T13:13:24.286211Z",
     "start_time": "2025-08-05T13:13:24.282890Z"
    }
   },
   "cell_type": "code",
   "source": [
    "s.unique()\n",
    "print(s.nunique())"
   ],
   "id": "f43a0ea1bb5cc597",
   "outputs": [
    {
     "name": "stdout",
     "output_type": "stream",
     "text": [
      "5\n"
     ]
    }
   ],
   "execution_count": 51
  },
  {
   "metadata": {
    "ExecuteTime": {
     "end_time": "2025-08-05T13:14:07.239119Z",
     "start_time": "2025-08-05T13:14:07.233177Z"
    }
   },
   "cell_type": "code",
   "source": "s.sort_index()",
   "id": "bd66157f650b2d34",
   "outputs": [
    {
     "data": {
      "text/plain": [
       "A    10.0\n",
       "B     2.0\n",
       "C     NaN\n",
       "D     NaN\n",
       "E     3.0\n",
       "F     4.0\n",
       "G     5.0\n",
       "h     4.0\n",
       "Name: data, dtype: float64"
      ]
     },
     "execution_count": 52,
     "metadata": {},
     "output_type": "execute_result"
    }
   ],
   "execution_count": 52
  },
  {
   "metadata": {
    "ExecuteTime": {
     "end_time": "2025-08-05T13:14:19.600587Z",
     "start_time": "2025-08-05T13:14:19.593577Z"
    }
   },
   "cell_type": "code",
   "source": "s.sort_values()",
   "id": "3707bbf08a926a20",
   "outputs": [
    {
     "data": {
      "text/plain": [
       "B     2.0\n",
       "E     3.0\n",
       "F     4.0\n",
       "h     4.0\n",
       "G     5.0\n",
       "A    10.0\n",
       "C     NaN\n",
       "D     NaN\n",
       "Name: data, dtype: float64"
      ]
     },
     "execution_count": 53,
     "metadata": {},
     "output_type": "execute_result"
    }
   ],
   "execution_count": 53
  },
  {
   "metadata": {},
   "cell_type": "code",
   "outputs": [],
   "execution_count": null,
   "source": "",
   "id": "b9585bed5cdc53"
  }
 ],
 "metadata": {
  "kernelspec": {
   "display_name": "Python 3",
   "language": "python",
   "name": "python3"
  },
  "language_info": {
   "codemirror_mode": {
    "name": "ipython",
    "version": 2
   },
   "file_extension": ".py",
   "mimetype": "text/x-python",
   "name": "python",
   "nbconvert_exporter": "python",
   "pygments_lexer": "ipython2",
   "version": "2.7.6"
  }
 },
 "nbformat": 4,
 "nbformat_minor": 5
}
